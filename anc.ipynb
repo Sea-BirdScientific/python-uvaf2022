{
 "cells": [
  {
   "cell_type": "code",
   "execution_count": 16,
   "metadata": {},
   "outputs": [],
   "source": [
    "import pandas as pd\n",
    "import numpy as np\n",
    "import glob\n",
    "import gsw\n",
    "import plotly.express as px\n",
    "import plotly.graph_objects as go\n",
    "from scipy import interpolate\n",
    "from dataclasses import dataclass, field\n",
    "import pysftp\n",
    "import fnmatch"
   ]
  },
  {
   "cell_type": "code",
   "execution_count": 17,
   "metadata": {},
   "outputs": [],
   "source": [
    "'''Class to get CTD data from PBOS'''\n",
    "@dataclass\n",
    "class PBOSdata :\n",
    "    fdir : str = \".\"\n",
    "    fname : str = \"ctd*.log\"\n",
    "\n",
    "\n",
    "    def getCTDs(self, force_download=True) :\n",
    "\n",
    "        # Create ctds filename \n",
    "        # Retrieve it via sftp if it isn't already been downloaded\n",
    "        self.fname = \"ctd*.log\"\n",
    "        fpath = self.fdir + '/' + self.fname\n",
    "        if ((glob.glob(fpath) == []) or force_download):\n",
    "            print(f'Getting files {self.fname} from PBOS')\n",
    "            host = '107.190.208.42'\n",
    "            # host = '10.123.123.28'\n",
    "            port = 10022\n",
    "            username='rnd20220701'\n",
    "            password = 'uvaf2022again'\n",
    "            remotePath = './'\n",
    "            localPath = self.fdir\n",
    "            cnopts = pysftp.CnOpts()\n",
    "            cnopts.hostkeys = None \n",
    "            with pysftp.Connection(host=host, port=port, username=username, password=password, cnopts=cnopts) as sftp:\n",
    "                print(\"Connection succesfully established ... \")\n",
    "                for filename in sftp.listdir(remotePath):\n",
    "                    if fnmatch.fnmatch(filename, self.fname):\n",
    "                        print(filename)\n",
    "                        sftp.get(remotePath + filename, localPath + filename)\n",
    "        return\n",
    "        \n",
    "    def getANCs(self, force_download=True) :\n",
    "\n",
    "        # Create ctds filename \n",
    "        # Retrieve it via sftp if it isn't already been downloaded\n",
    "        self.fname = \"anc_*.log.gz\"\n",
    "        fpath = self.fdir + '/' + self.fname\n",
    "        if ((glob.glob(fpath) == []) or force_download):\n",
    "            print(f'Getting files {self.fname} from PBOS')\n",
    "            host = '107.190.208.42'\n",
    "            # host = '10.123.123.28'\n",
    "            port = 10022\n",
    "            username='rnd20220701'\n",
    "            password = 'uvaf2022again'\n",
    "            remotePath = './'\n",
    "            localPath = self.fdir\n",
    "            cnopts = pysftp.CnOpts()\n",
    "            cnopts.hostkeys = None \n",
    "            with pysftp.Connection(host=host, port=port, username=username, password=password, cnopts=cnopts) as sftp:\n",
    "                print(\"Connection succesfully established ... \")\n",
    "                for filename in sftp.listdir(remotePath):\n",
    "                    if fnmatch.fnmatch(filename, self.fname):\n",
    "                        print(filename)\n",
    "                        sftp.get(remotePath + filename, localPath + filename)\n",
    "        return\n"
   ]
  },
  {
   "cell_type": "code",
   "execution_count": 18,
   "metadata": {},
   "outputs": [
    {
     "name": "stdout",
     "output_type": "stream",
     "text": [
      "Getting files anc_*.log.gz from PBOS\n",
      "Connection succesfully established ... \n",
      "anc_cst190.log.gz\n",
      "anc_eco.log.gz\n",
      "anc_ecopar.log.gz\n",
      "anc_satpar.log.gz\n",
      "anc_seaowl.log.gz\n"
     ]
    }
   ],
   "source": [
    "from hashlib import pbkdf2_hmac\n",
    "from pyrsistent import pbag\n",
    "\n",
    "\n",
    "rootDir = '/Users/ericrehm/Danaher/SBS Technology Research - 2021 UVAF/Deliverables/Data/sftp/'\n",
    "\n",
    "pb = PBOSdata(rootDir)\n",
    "# pb.getCTDs(True)\n",
    "pb.getANCs(True)"
   ]
  },
  {
   "cell_type": "code",
   "execution_count": 19,
   "metadata": {},
   "outputs": [
    {
     "name": "stdout",
     "output_type": "stream",
     "text": [
      "anc_cst190.log.gz\n",
      "         date      time           host      app          4     5      6  \\\n",
      "0  2022-09-09  14:41:08  10.123.123.22  Port#8:  CST-190PB  9873  13658   \n",
      "1  2022-09-09  14:41:09  10.123.123.22  Port#8:  CST-190PB  9874  13659   \n",
      "\n",
      "       7      8    9  \n",
      "0  14501  0.299  516  \n",
      "1  14501  0.299  515  \n"
     ]
    },
    {
     "name": "stderr",
     "output_type": "stream",
     "text": [
      "/var/folders/qb/0vp2wlh17vj_yg4wcxh3j_600000gn/T/ipykernel_55361/3188733790.py:43: UserWarning: This pattern is interpreted as a regular expression, and has match groups. To actually get the groups, use str.extract.\n",
      "  filter = dfanc.date.str.contains(patternKeep)\n",
      "/var/folders/qb/0vp2wlh17vj_yg4wcxh3j_600000gn/T/ipykernel_55361/3188733790.py:48: UserWarning: This pattern is interpreted as a regular expression, and has match groups. To actually get the groups, use str.extract.\n",
      "  filter = dfanc.time.str.contains(patternKeep)\n"
     ]
    },
    {
     "name": "stdout",
     "output_type": "stream",
     "text": [
      "Port#8\n",
      "                         dt  sensor  value\n",
      "3785839 2022-10-17 12:01:29  cst190  1.826\n",
      "3785840 2022-10-17 12:01:30  cst190  1.831\n",
      "anc_eco.log.gz\n",
      "         date      time           host       app                4    5     6  \\\n",
      "0  2022-09-09  14:41:08  10.123.123.22  Port#10:  FLBBFLRT2K-7341  695  3154   \n",
      "1  2022-09-09  14:41:09  10.123.123.22  Port#10:  FLBBFLRT2K-7341  695  3154   \n",
      "\n",
      "     7     8      9      10     11  \n",
      "0  700  4130  695.0  4130.0  525.0  \n",
      "1  700  4130  695.0  4130.0  525.0  \n"
     ]
    },
    {
     "name": "stderr",
     "output_type": "stream",
     "text": [
      "/var/folders/qb/0vp2wlh17vj_yg4wcxh3j_600000gn/T/ipykernel_55361/3188733790.py:43: UserWarning: This pattern is interpreted as a regular expression, and has match groups. To actually get the groups, use str.extract.\n",
      "  filter = dfanc.date.str.contains(patternKeep)\n",
      "/var/folders/qb/0vp2wlh17vj_yg4wcxh3j_600000gn/T/ipykernel_55361/3188733790.py:48: UserWarning: This pattern is interpreted as a regular expression, and has match groups. To actually get the groups, use str.extract.\n",
      "  filter = dfanc.time.str.contains(patternKeep)\n"
     ]
    },
    {
     "name": "stdout",
     "output_type": "stream",
     "text": [
      "Port#10\n",
      "                         dt     sensor   value\n",
      "2861133 2022-10-17 12:01:11  ecochl435  4.8107\n",
      "2861134 2022-10-17 12:01:12  ecochl435  4.7012\n",
      "anc_seaowl.log.gz\n",
      "         date      time           host       app              4     5    6  \\\n",
      "0  2022-09-09  14:41:09  10.123.123.22  Port#11:  SEAOWLA2K-013  3169  623   \n",
      "1  2022-09-09  14:41:10  10.123.123.22  Port#11:  SEAOWLA2K-013  3162  621   \n",
      "\n",
      "      7     8     9     10     11      12    13    14  15  16  17  \n",
      "0  5881  5881  1665  15105  15366  151050  2177  2177  50  53  53  \n",
      "1  5854  5854  1661  15108  15366  151080  2175  2175  50  49  49  \n"
     ]
    },
    {
     "name": "stderr",
     "output_type": "stream",
     "text": [
      "/var/folders/qb/0vp2wlh17vj_yg4wcxh3j_600000gn/T/ipykernel_55361/3188733790.py:43: UserWarning: This pattern is interpreted as a regular expression, and has match groups. To actually get the groups, use str.extract.\n",
      "  filter = dfanc.date.str.contains(patternKeep)\n",
      "/var/folders/qb/0vp2wlh17vj_yg4wcxh3j_600000gn/T/ipykernel_55361/3188733790.py:48: UserWarning: This pattern is interpreted as a regular expression, and has match groups. To actually get the groups, use str.extract.\n",
      "  filter = dfanc.time.str.contains(patternKeep)\n"
     ]
    },
    {
     "name": "stdout",
     "output_type": "stream",
     "text": [
      "Port#11:\n",
      "                         dt   sensor     value\n",
      "2883672 2022-10-17 12:01:17  seafdom  1.203532\n",
      "2883673 2022-10-17 12:01:18  seafdom  1.222840\n",
      "anc_ecopar.log.gz\n",
      "         date      time           host       app         4         5        6\n",
      "0  2022-09-09  14:41:09  10.123.123.22  Port#12:  09/09/22  14:41:05  10134.0\n",
      "1  2022-09-09  14:41:10  10.123.123.22  Port#12:  09/09/22  14:41:06  10134.0\n"
     ]
    },
    {
     "name": "stderr",
     "output_type": "stream",
     "text": [
      "/var/folders/qb/0vp2wlh17vj_yg4wcxh3j_600000gn/T/ipykernel_55361/3188733790.py:43: UserWarning: This pattern is interpreted as a regular expression, and has match groups. To actually get the groups, use str.extract.\n",
      "  filter = dfanc.date.str.contains(patternKeep)\n",
      "/var/folders/qb/0vp2wlh17vj_yg4wcxh3j_600000gn/T/ipykernel_55361/3188733790.py:48: UserWarning: This pattern is interpreted as a regular expression, and has match groups. To actually get the groups, use str.extract.\n",
      "  filter = dfanc.time.str.contains(patternKeep)\n"
     ]
    },
    {
     "name": "stdout",
     "output_type": "stream",
     "text": [
      "                        dt  sensor     value\n",
      "265284 2022-10-17 12:01:28  ecopar  3.546474\n",
      "265285 2022-10-17 12:01:29  ecopar  3.540850\n",
      "anc_satpar.log.gz\n",
      "         date      time           host       app           4      5        6  \\\n",
      "0  2022-09-09  14:41:09  10.123.123.22  Port#13:  SATPRS1057  3.464  130.254   \n",
      "1  2022-09-09  14:41:10  10.123.123.22  Port#13:  SATPRS1057  4.464  130.295   \n",
      "\n",
      "     7    8     9   10  \n",
      "0 -1.6  2.2  30.5  216  \n",
      "1 -1.1  2.0  30.5  217  \n"
     ]
    },
    {
     "name": "stderr",
     "output_type": "stream",
     "text": [
      "/var/folders/qb/0vp2wlh17vj_yg4wcxh3j_600000gn/T/ipykernel_55361/3188733790.py:43: UserWarning: This pattern is interpreted as a regular expression, and has match groups. To actually get the groups, use str.extract.\n",
      "  filter = dfanc.date.str.contains(patternKeep)\n",
      "/var/folders/qb/0vp2wlh17vj_yg4wcxh3j_600000gn/T/ipykernel_55361/3188733790.py:48: UserWarning: This pattern is interpreted as a regular expression, and has match groups. To actually get the groups, use str.extract.\n",
      "  filter = dfanc.time.str.contains(patternKeep)\n"
     ]
    },
    {
     "name": "stdout",
     "output_type": "stream",
     "text": [
      "                         dt  sensor  value\n",
      "3183424 2022-10-17 12:01:39  satpar  3.118\n",
      "3183425 2022-10-17 12:01:40  satpar  3.108\n"
     ]
    }
   ],
   "source": [
    "\n",
    "# Where is the data?\n",
    "rootDir = '/Users/ericrehm/Danaher/SBS Technology Research - 2021 UVAF/Deliverables/Data/sftp/'\n",
    "anclogs = ['anc_cst190.log.gz', 'anc_eco.log.gz', 'anc_seaowl.log.gz', 'anc_ecopar.log.gz', 'anc_satpar.log.gz']\n",
    "# anclogs = ['anc_ecopar.log.gz']\n",
    "ncols = [10, 12, 18, 7, 11 ]\n",
    "\n",
    "# Calibration data\n",
    "ecoCal = { 'Chl470' : {\"ScaleFactor\" : 0.0073, \"DarkCounts\" : 48},\n",
    "        'Beta700' :{\"ScaleFactor\" : 1.591e-06, \"DarkCounts\" : 49},\n",
    "        'Chl435': {\"ScaleFactor\" : 0.0073, \"DarkCounts\" : 47}}\n",
    " \n",
    "seaowlCal = { 'Chl470' : {\"ScaleFactor\" : 2.006E-03, \"DarkCounts\" : 49},\n",
    "        'Beta700' :{\"ScaleFactor\" : 4.852E-07, \"DarkCounts\" : 49},\n",
    "        'fDOM': {\"ScaleFactor\" : 3.218E-03, \"DarkCounts\" : 50}}\n",
    "\n",
    "ecoparCal = { 'a0' : 4777, 'a1' : 2902, 'im': 1.3589 }\n",
    "\n",
    "# Initialized \"pre-melted\" dataframe\n",
    "dfall = pd.DataFrame([])\n",
    "\n",
    "\n",
    "# Assumes data processed to ctdn.log by exctds.sh, where n = 1..7\n",
    "\n",
    "ix = 0\n",
    "for anclog in anclogs:\n",
    "    print(anclog)\n",
    "    # dfanc = pd.read_csv(rootDir+anclog, header=None, delim_whitespace=True)\n",
    "    dfanc = pd.read_csv(rootDir+anclog, compression='gzip', header=None, delimiter=' |\\t|,', usecols=range(0, ncols[ix]), engine='python', encoding = \"ISO-8859-1\", skiprows=1)\n",
    "\n",
    "    # rename know SYSLOG columns\n",
    "    dfanc.rename(columns={0:'date', 1:'time', 2:'host',3:'app'}, inplace=True)\n",
    "\n",
    "    print(dfanc.head(2))\n",
    "\n",
    "    dfanc.date = dfanc.date.astype('string')\n",
    "    dfanc.time = dfanc.time.astype('string')\n",
    "    dfanc.host = dfanc.host.astype('string')\n",
    "    dfanc.app  = dfanc.app.astype('string')\n",
    "\n",
    "    # Filter for correct patterns\n",
    "    # yyyy-mm-dd\n",
    "    patternKeep = r'^\\d{4}\\-(0[1-9]|1[012])\\-(0[1-9]|[12][0-9]|3[01])$'\n",
    "    filter = dfanc.date.str.contains(patternKeep)\n",
    "    dfanc = dfanc[filter]\n",
    "\n",
    "    # hh:mm:ss\n",
    "    patternKeep = r'^(\\d{2}):(\\d{2}):(\\d{2})$'\n",
    "    filter = dfanc.time.str.contains(patternKeep)\n",
    "    dfanc = dfanc[filter]\n",
    "    # print(dfanc.head(2))\n",
    "\n",
    "    # Create datetime from date and time\n",
    "    dfsensor = pd.DataFrame([])\n",
    "    dfsensor['dt'] = pd.to_datetime(dfanc.date + ' ' + dfanc.time)\n",
    "\n",
    "    match dfanc.app[0]:\n",
    "        case 'Port#8:' : \n",
    "            print('Port#8')\n",
    "            dfsensor['sensor'] = 'cst190'\n",
    "            dfsensor['value'] = dfanc[8]  # beam-c\n",
    "            dfall = pd.concat([dfall, dfsensor], axis=0)\n",
    "\n",
    "        case 'Port#10:' : \n",
    "            print('Port#10')\n",
    "            dfsensor['sensor'] = 'ecochl470'\n",
    "            dfsensor['value'] = ecoCal['Chl470']['ScaleFactor']*(dfanc[6]-ecoCal['Chl470']['DarkCounts'])  # chl-470\n",
    "            dfall = pd.concat([dfall, dfsensor], axis=0)\n",
    "            dfsensor['sensor'] = 'ecobb700'\n",
    "            dfsensor['value'] = ecoCal['Beta700']['ScaleFactor']*(dfanc[8]-ecoCal['Beta700']['DarkCounts'])  # bb700\n",
    "            dfall = pd.concat([dfall, dfsensor], axis=0)\n",
    "            dfsensor['sensor'] = 'ecochl435'\n",
    "            dfsensor['value'] = ecoCal['Chl435']['ScaleFactor']*(dfanc[10]-ecoCal['Chl470']['DarkCounts'])  # chl-435\n",
    "            dfall = pd.concat([dfall, dfsensor], axis=0)\n",
    "\n",
    "        case 'Port#11:' : \n",
    "            print('Port#11:')\n",
    "            dfsensor['sensor'] = 'seachl470'\n",
    "            dfsensor['value'] = seaowlCal['Chl470']['ScaleFactor']*(dfanc[8]-seaowlCal['Chl470']['DarkCounts'])  # chl-470\n",
    "            dfall = pd.concat([dfall, dfsensor], axis=0)\n",
    "            dfsensor['sensor'] = 'seabb700'\n",
    "            dfsensor['value'] = seaowlCal['Beta700']['ScaleFactor']*(dfanc[12]-seaowlCal['Chl470']['DarkCounts'])  # bb700\n",
    "            dfall = pd.concat([dfall, dfsensor], axis=0)\n",
    "            dfsensor['sensor'] = 'seafdom'\n",
    "            dfsensor['value'] = seaowlCal['fDOM']['ScaleFactor']*(dfanc[17]-seaowlCal['fDOM']['DarkCounts'])  # fdom\n",
    "            dfall = pd.concat([dfall, dfsensor], axis=0)\n",
    "            \n",
    "        case 'Port#12:' : \n",
    "            dfsensor['sensor'] = 'ecopar'\n",
    "            dfsensor['value'] = ecoparCal['im']*(10**((dfanc[6]-ecoparCal['a0'])/ecoparCal['a1']))  # ECOPAR PAR\n",
    "            dfall = pd.concat([dfall, dfsensor], axis=0)\n",
    "\n",
    "        case 'Port#13:' : \n",
    "            dfsensor['sensor'] = 'satpar'\n",
    "            dfsensor['value'] = dfanc[6]  # SATPAR value\n",
    "            dfall = pd.concat([dfall, dfsensor], axis=0)\n",
    "\n",
    "        case _:\n",
    "            print(f'Unknown app (Port): {dfanc.app[0]}')\n",
    "\n",
    "    print(dfsensor.tail(2))\n",
    "    ix = ix+1\n"
   ]
  },
  {
   "cell_type": "code",
   "execution_count": 20,
   "metadata": {},
   "outputs": [
    {
     "name": "stdout",
     "output_type": "stream",
     "text": [
      "                         dt  sensor  value\n",
      "3183424 2022-10-17 12:01:39  satpar  3.118\n",
      "3183425 2022-10-17 12:01:40  satpar  3.108\n"
     ]
    }
   ],
   "source": [
    "print(dfall.tail(2))"
   ]
  },
  {
   "cell_type": "code",
   "execution_count": 26,
   "metadata": {},
   "outputs": [
    {
     "name": "stdout",
     "output_type": "stream",
     "text": [
      "0\n",
      "1\n",
      "2\n",
      "3\n",
      "4\n",
      "5\n",
      "6\n",
      "7\n",
      "8\n"
     ]
    }
   ],
   "source": [
    "%matplotlib osx\n",
    "\n",
    "import seaborn as sns\n",
    "import matplotlib.dates as mdates\n",
    "\n",
    "start_day = '10.11.2022'\n",
    "end_day = '10.18.2022'\n",
    "\n",
    "start_day = pd.to_datetime(start_day)\n",
    "end_day = pd.to_datetime(end_day)\n",
    "dfsub = dfall[dfall.dt.between(start_day, end_day)]\n",
    "\n",
    "g = sns.FacetGrid(dfsub, col='sensor', col_wrap=3, sharey=False)\n",
    "g.map_dataframe(sns.scatterplot, x='dt', y='value', s=2, edgecolor='none')\n",
    "xformatter = mdates.DateFormatter(\"%m/%d\")\n",
    "g.axes[0].xaxis.set_major_formatter(xformatter)\n",
    "for i, ax in enumerate(g.axes.flat): \n",
    "    print(i)\n",
    "    match i:\n",
    "        case 0:\n",
    "            ax.set_ylim(0, 5)     # m-1\n",
    "        case 1:\n",
    "            ax.set_ylim(0, 10)    # mg m-3\n",
    "        case 2:\n",
    "            ax.set_ylim(0, 0.01)  # m-1 sr-1\n",
    "        case 3:\n",
    "            ax.set_ylim(0, 10)    # mg m-3\n",
    "        case 4:\n",
    "            ax.set_ylim(0, 10)    # mg m-3\n",
    "        case 5:\n",
    "            ax.set_ylim(0, 0.01)  # m-1 sr-1\n",
    "        case 6: \n",
    "            ax.set_ylim(0, 3)     # ppb\n",
    "        case 7: \n",
    "            ax.set_ylim(0, 100)     # umol m-2 s-1\n",
    "        case 8: \n",
    "            ax.set_ylim(0, 100)     # umol m-2 s-1\n"
   ]
  },
  {
   "cell_type": "code",
   "execution_count": 28,
   "metadata": {},
   "outputs": [
    {
     "data": {
      "text/plain": [
       "array(['cst190', 'ecochl470', 'ecobb700', 'ecochl435', 'seachl470',\n",
       "       'seabb700', 'seafdom', 'ecopar', 'satpar'], dtype=object)"
      ]
     },
     "execution_count": 28,
     "metadata": {},
     "output_type": "execute_result"
    }
   ],
   "source": [
    "dfsub.sensor.unique()"
   ]
  },
  {
   "cell_type": "code",
   "execution_count": 29,
   "metadata": {},
   "outputs": [
    {
     "ename": "AttributeError",
     "evalue": "'Series' object has no attribute 'satpar'",
     "output_type": "error",
     "traceback": [
      "\u001b[0;31m---------------------------------------------------------------------------\u001b[0m",
      "\u001b[0;31mAttributeError\u001b[0m                            Traceback (most recent call last)",
      "\u001b[1;32m/Users/ericrehm/Library/CloudStorage/OneDrive-SharedLibraries-Danaher/SBS Technology Research - 2021 UVAF/Deliverables/python/anc.ipynb Cell 8\u001b[0m in \u001b[0;36m<module>\u001b[0;34m\u001b[0m\n\u001b[1;32m      <a href='vscode-notebook-cell:/Users/ericrehm/Library/CloudStorage/OneDrive-SharedLibraries-Danaher/SBS%20Technology%20Research%20-%202021%20UVAF/Deliverables/python/anc.ipynb#W5sZmlsZQ%3D%3D?line=0'>1</a>\u001b[0m symbol_size \u001b[39m=\u001b[39m \u001b[39m10\u001b[39m\n\u001b[0;32m----> <a href='vscode-notebook-cell:/Users/ericrehm/Library/CloudStorage/OneDrive-SharedLibraries-Danaher/SBS%20Technology%20Research%20-%202021%20UVAF/Deliverables/python/anc.ipynb#W5sZmlsZQ%3D%3D?line=1'>2</a>\u001b[0m dfsub\u001b[39m.\u001b[39mparRatio \u001b[39m=\u001b[39m dfsub\u001b[39m.\u001b[39;49msensor\u001b[39m.\u001b[39;49msatpar \u001b[39m/\u001b[39m dfsub\u001b[39m.\u001b[39msensor\u001b[39m.\u001b[39mecopar\n\u001b[1;32m      <a href='vscode-notebook-cell:/Users/ericrehm/Library/CloudStorage/OneDrive-SharedLibraries-Danaher/SBS%20Technology%20Research%20-%202021%20UVAF/Deliverables/python/anc.ipynb#W5sZmlsZQ%3D%3D?line=2'>3</a>\u001b[0m fig \u001b[39m=\u001b[39m px\u001b[39m.\u001b[39mscatter(x\u001b[39m=\u001b[39mdfsub\u001b[39m.\u001b[39mdt, y\u001b[39m=\u001b[39mdfsub\u001b[39m.\u001b[39mparRatio, render_mode\u001b[39m=\u001b[39m\u001b[39m'\u001b[39m\u001b[39mwebgl\u001b[39m\u001b[39m'\u001b[39m)\n\u001b[1;32m      <a href='vscode-notebook-cell:/Users/ericrehm/Library/CloudStorage/OneDrive-SharedLibraries-Danaher/SBS%20Technology%20Research%20-%202021%20UVAF/Deliverables/python/anc.ipynb#W5sZmlsZQ%3D%3D?line=4'>5</a>\u001b[0m fig\u001b[39m.\u001b[39mshow()\n",
      "File \u001b[0;32m/opt/anaconda3/envs/sbs39/lib/python3.10/site-packages/pandas/core/generic.py:5583\u001b[0m, in \u001b[0;36mNDFrame.__getattr__\u001b[0;34m(self, name)\u001b[0m\n\u001b[1;32m   5576\u001b[0m \u001b[39mif\u001b[39;00m (\n\u001b[1;32m   5577\u001b[0m     name \u001b[39mnot\u001b[39;00m \u001b[39min\u001b[39;00m \u001b[39mself\u001b[39m\u001b[39m.\u001b[39m_internal_names_set\n\u001b[1;32m   5578\u001b[0m     \u001b[39mand\u001b[39;00m name \u001b[39mnot\u001b[39;00m \u001b[39min\u001b[39;00m \u001b[39mself\u001b[39m\u001b[39m.\u001b[39m_metadata\n\u001b[1;32m   5579\u001b[0m     \u001b[39mand\u001b[39;00m name \u001b[39mnot\u001b[39;00m \u001b[39min\u001b[39;00m \u001b[39mself\u001b[39m\u001b[39m.\u001b[39m_accessors\n\u001b[1;32m   5580\u001b[0m     \u001b[39mand\u001b[39;00m \u001b[39mself\u001b[39m\u001b[39m.\u001b[39m_info_axis\u001b[39m.\u001b[39m_can_hold_identifiers_and_holds_name(name)\n\u001b[1;32m   5581\u001b[0m ):\n\u001b[1;32m   5582\u001b[0m     \u001b[39mreturn\u001b[39;00m \u001b[39mself\u001b[39m[name]\n\u001b[0;32m-> 5583\u001b[0m \u001b[39mreturn\u001b[39;00m \u001b[39mobject\u001b[39;49m\u001b[39m.\u001b[39;49m\u001b[39m__getattribute__\u001b[39;49m(\u001b[39mself\u001b[39;49m, name)\n",
      "\u001b[0;31mAttributeError\u001b[0m: 'Series' object has no attribute 'satpar'"
     ]
    }
   ],
   "source": [
    "# symbol_size = 10\n",
    "# x1 = dfsub.dt\n",
    "# y = dfsub[dfsub.sensor == 'satpar'].sensor / dfsub.sensor.ecopar\n",
    "# fig = px.scatter(x=x, y=y, render_mode='webgl')\n",
    "\n",
    "# fig.show()"
   ]
  }
 ],
 "metadata": {
  "kernelspec": {
   "display_name": "Python 3.10.2 ('sbs39')",
   "language": "python",
   "name": "python3"
  },
  "language_info": {
   "codemirror_mode": {
    "name": "ipython",
    "version": 3
   },
   "file_extension": ".py",
   "mimetype": "text/x-python",
   "name": "python",
   "nbconvert_exporter": "python",
   "pygments_lexer": "ipython3",
   "version": "3.10.2"
  },
  "orig_nbformat": 4,
  "vscode": {
   "interpreter": {
    "hash": "69dd1a3b3ef4d007d901003da07a82c98ccb49dc3a3f867c37d4e3f7a79219f5"
   }
  }
 },
 "nbformat": 4,
 "nbformat_minor": 2
}
